{
 "cells": [
  {
   "cell_type": "code",
   "execution_count": 1,
   "metadata": {},
   "outputs": [
    {
     "name": "stderr",
     "output_type": "stream",
     "text": [
      "Loading required package: NLP\n",
      "\n"
     ]
    }
   ],
   "source": [
    "library(stringr)\n",
    "library(tm)"
   ]
  },
  {
   "cell_type": "code",
   "execution_count": 2,
   "metadata": {},
   "outputs": [],
   "source": [
    "setwd(\"/root/workspace\");"
   ]
  },
  {
   "cell_type": "code",
   "execution_count": 10,
   "metadata": {},
   "outputs": [
    {
     "data": {
      "text/html": [
       "'/root/workspace'"
      ],
      "text/latex": [
       "'/root/workspace'"
      ],
      "text/markdown": [
       "'/root/workspace'"
      ],
      "text/plain": [
       "[1] \"/root/workspace\""
      ]
     },
     "metadata": {},
     "output_type": "display_data"
    }
   ],
   "source": [
    "getwd();\n",
    "get_group <- function(i,group){\n",
    "        a<-str_split(i,\"-\")\n",
    "        a<-unlist(a)\n",
    "        parsing<-str_trim(a[2])\n",
    "        alert_group<-str_split(parsing,\",\")\n",
    "        alert_group<-unlist(alert_group)\n",
    "        group<-c(group,alert_group)\n",
    "        return(group);\n",
    "    \n",
    "}\n",
    "\n",
    "get_level <- function(i){\n",
    "          description<-str_split(i,\"->\")\n",
    "            description<-unlist(description)\n",
    "            alert_level<-str_split(description,\"level\")\n",
    "            alert_level<-unlist(alert_level)\n",
    "            alert_level<-str_trim(alert_level[2])\n",
    "            aa<-str_sub(alert_level,start=1,end=1)\n",
    "            aa<-as.numeric(aa)\n",
    "            return(aa);\n",
    "}\n",
    "\n",
    "get_description <- function(i,description){\n",
    "            alert_description<-str_split(i,\"->\")\n",
    "            alert_description<-unlist(alert_description)\n",
    "            alert_description<-str_trim(alert_description[2])\n",
    "           # description<-str_replace_all(description,'','')\n",
    "            alert_description<-removeWords(alert_description,stopwords(\"en\"))\n",
    "            description<-c(description,alert_description)\n",
    "            print(description)\n",
    "            return(description);\n",
    "            \n",
    "    \n",
    "}"
   ]
  },
  {
   "cell_type": "code",
   "execution_count": 12,
   "metadata": {},
   "outputs": [
    {
     "name": "stderr",
     "output_type": "stream",
     "text": [
      "IOPub data rate exceeded.\n",
      "The notebook server will temporarily stop sending output\n",
      "to the client in order to avoid crashing it.\n",
      "To change this limit, set the config variable\n",
      "`--NotebookApp.iopub_data_rate_limit`.\n",
      "\n",
      "Current values:\n",
      "NotebookApp.iopub_data_rate_limit=1000000.0 (bytes/sec)\n",
      "NotebookApp.rate_limit_window=3.0 (secs)\n",
      "\n"
     ]
    }
   ],
   "source": [
    "text<-readLines(\"alert_25.log\");\n",
    "count<- -1\n",
    "load(\"group.txt\")\n",
    "description<-vector()\n",
    "\n",
    "for(i in text){\n",
    "    level<-vector()\n",
    "    if(nchar(i)!=0){\n",
    "        count<-count+1\n",
    "        if(count==0){\n",
    "            group<-get_group(i,group)\n",
    "        }else if(count==2){\n",
    "          level<-get_level(i)\n",
    "          description<-get_description(i,description)\n",
    "        }else{\n",
    "            next;\n",
    "        }\n",
    "    }else{\n",
    "        count<--1\n",
    "    }\n",
    "\n",
    "}\n",
    "group<-unique(group)\n",
    "description<-unique(description)\n",
    "group<-group[group!=\"\"]\n",
    "save(group,file=\"group.txt\")\n",
    "save(description,file=\"description.txt\")\n",
    "\n",
    "\n"
   ]
  },
  {
   "cell_type": "code",
   "execution_count": null,
   "metadata": {},
   "outputs": [],
   "source": []
  },
  {
   "cell_type": "code",
   "execution_count": null,
   "metadata": {},
   "outputs": [],
   "source": []
  }
 ],
 "metadata": {
  "kernelspec": {
   "display_name": "R",
   "language": "R",
   "name": "ir"
  },
  "language_info": {
   "codemirror_mode": "r",
   "file_extension": ".r",
   "mimetype": "text/x-r-source",
   "name": "R",
   "pygments_lexer": "r",
   "version": "3.6.3"
  }
 },
 "nbformat": 4,
 "nbformat_minor": 4
}
