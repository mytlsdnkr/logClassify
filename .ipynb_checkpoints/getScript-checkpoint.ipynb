{
 "cells": [
  {
   "cell_type": "code",
   "execution_count": 58,
   "metadata": {},
   "outputs": [],
   "source": [
    "library(stringr)\n",
    "library(tm)\n",
    "library(filesstrings)"
   ]
  },
  {
   "cell_type": "code",
   "execution_count": 59,
   "metadata": {},
   "outputs": [],
   "source": [
    "setwd(\"/root/workspace/logClassify\");"
   ]
  },
  {
   "cell_type": "code",
   "execution_count": 60,
   "metadata": {},
   "outputs": [],
   "source": [
    "\n",
    "get_group <- function(i,group){\n",
    "        a<-str_split(i,\"-\")\n",
    "        a<-unlist(a)\n",
    "        parsing<-str_trim(a[2])\n",
    "        alert_group<-str_split(parsing,\",\")\n",
    "        alert_group<-unlist(alert_group)\n",
    "        group<-c(group,alert_group)\n",
    "        return(group);\n",
    "    \n",
    "}\n",
    "\n",
    "get_description <- function(i,description){\n",
    "            alert_description<-str_split(i,\"->\")\n",
    "            alert_description<-unlist(alert_description)\n",
    "            alert_description<-str_trim(alert_description[2])\n",
    "           # description<-str_replace_all(description,'','')\n",
    "            alert_description<-removeWords(alert_description,stopwords(\"en\"))\n",
    "            description<-c(description,alert_description)\n",
    "            return(description);\n",
    "            \n",
    "    \n",
    "}\n",
    "\n",
    "\n",
    "#print(fileList)"
   ]
  },
  {
   "cell_type": "code",
   "execution_count": 61,
   "metadata": {},
   "outputs": [],
   "source": [
    "load(\"data/group.txt\")\n",
    "load(\"data/description.txt\")\n",
    "description<-str_split(description,\" \")\n",
    "description<-unlist(description)\n",
    "description<-description[description!=\"\"]\n",
    "description<-unique(description)\n",
    "\n",
    "\n",
    "description<-gsub(\"(\",\"\",description,fixed=TRUE)\n",
    "description<-gsub(\")\",\"\",description,fixed=TRUE)\n",
    "description<-gsub(\"'\",\"\",description,fixed=TRUE)\n",
    "description<-gsub(\":\",\"\",description,fixed=TRUE)\n",
    "description<-gsub(\".\",\"\",description,fixed=TRUE)\n",
    "\n",
    "for(i in description){\n",
    "    if(nchar(i)<=2)\n",
    "        description<-description[description!=i]\n",
    "    \n",
    "}\n",
    "\n",
    "\n"
   ]
  },
  {
   "cell_type": "code",
   "execution_count": 64,
   "metadata": {},
   "outputs": [
    {
     "ename": "ERROR",
     "evalue": "Error in setwd(path): 작업디렉토리를 변경할 수 없습니다\n",
     "output_type": "error",
     "traceback": [
      "Error in setwd(path): 작업디렉토리를 변경할 수 없습니다\nTraceback:\n",
      "1. setwd(path)"
     ]
    }
   ],
   "source": [
    "\n",
    "\n",
    "dir<-list.files(path=\"log\",pattern=NULL)\n",
    "for(i in dir){\n",
    "    path<-paste(c(\"log/\"),i,sep=\"\")\n",
    " \n",
    "    fileList<-list.files(path=path,pattern=NULL)\n",
    "       setwd(path)\n",
    "    getwd()\n",
    "    for(k in fileList){\n",
    " \n",
    "        #getwd()\n",
    "    }\n",
    "    }\n",
    " \n",
    " \n",
    "    #text<-readLines(path);\n",
    "    #count<- -1\n",
    "    #for(k in text){\n",
    "    #if(nchar(k)!=0){\n",
    "     #   count<-count+1\n",
    "     #if(count==0){\n",
    "      #      group<-get_group(k,group)\n",
    "       # }else if(count==2){\n",
    "        #  description<-get_description(k,description)\n",
    "        #}else{\n",
    "         #   next;\n",
    "        #}\n",
    "    #}else{\n",
    "    #    count<--1\n",
    "    #}\n",
    "\n",
    "#}\n",
    "#    file.move(path,\"usedData\")\n",
    "\n",
    "  \n",
    "\n",
    "#fileList<-list.files(path=\"log\",pattern=NULL)\n",
    "\n",
    "\n",
    "\n",
    "#group<-unique(group)\n",
    "#description<-unique(description)\n",
    "#group<-group[group!=\"\"]\n",
    "#save(group,file=\"data/group.txt\")\n",
    "#save(description,file=\"data/description.txt\")"
   ]
  },
  {
   "cell_type": "code",
   "execution_count": null,
   "metadata": {},
   "outputs": [],
   "source": []
  }
 ],
 "metadata": {
  "kernelspec": {
   "display_name": "R",
   "language": "R",
   "name": "ir"
  },
  "language_info": {
   "codemirror_mode": "r",
   "file_extension": ".r",
   "mimetype": "text/x-r-source",
   "name": "R",
   "pygments_lexer": "r",
   "version": "3.6.3"
  }
 },
 "nbformat": 4,
 "nbformat_minor": 4
}
